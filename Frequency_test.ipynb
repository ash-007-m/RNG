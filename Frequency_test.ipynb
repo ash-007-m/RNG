{
 "cells": [
  {
   "cell_type": "code",
   "execution_count": 2,
   "metadata": {},
   "outputs": [
    {
     "data": {
      "text/plain": [
       "KstestResult(statistic=0.3500884175255894, pvalue=0.037881074896262135, statistic_location=0.9500884175255894, statistic_sign=-1)"
      ]
     },
     "execution_count": 2,
     "metadata": {},
     "output_type": "execute_result"
    }
   ],
   "source": [
    "import numpy as np\n",
    "import scipy\n",
    "from numpy.random import seed\n",
    "from numpy.random import randn\n",
    "from scipy.stats import uniform \n",
    "\n",
    "#set seed (make this example reproducible)\n",
    "seed(0)\n",
    "\n",
    "#generate two datasets\n",
    "data1 = randn(15)\n",
    "from scipy.stats import kstest\n",
    "#perform Kolmogorov-Smirnov test\n",
    "kstest(data1,'uniform' )"
   ]
  }
 ],
 "metadata": {
  "kernelspec": {
   "display_name": "Python 3",
   "language": "python",
   "name": "python3"
  },
  "language_info": {
   "codemirror_mode": {
    "name": "ipython",
    "version": 3
   },
   "file_extension": ".py",
   "mimetype": "text/x-python",
   "name": "python",
   "nbconvert_exporter": "python",
   "pygments_lexer": "ipython3",
   "version": "3.11.4"
  }
 },
 "nbformat": 4,
 "nbformat_minor": 2
}
